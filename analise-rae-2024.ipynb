version https://git-lfs.github.com/spec/v1
oid sha256:a69427e7256008e0fe51f5b8bb287f0b80b77ab43d5031ac3e9888df718d2933
size 4280577
